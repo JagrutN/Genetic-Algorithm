{
  "nbformat": 4,
  "nbformat_minor": 0,
  "metadata": {
    "colab": {
      "name": "genetic_algorithm.ipynb",
      "provenance": [],
      "collapsed_sections": []
    },
    "kernelspec": {
      "name": "python3",
      "display_name": "Python 3"
    }
  },
  "cells": [
    {
      "cell_type": "code",
      "metadata": {
        "id": "-2TXqasuImIO"
      },
      "source": [
        "import numpy as np\r\n",
        "import random\r\n",
        "import copy\r\n",
        "import math\r\n",
        "import operator\r\n",
        "import pandas as pd\r\n",
        "import time\r\n"
      ],
      "execution_count": 16,
      "outputs": []
    },
    {
      "cell_type": "code",
      "metadata": {
        "id": "KxheuC8bKtnW"
      },
      "source": [
        "def distance_between_cities(cities):\r\n",
        "    data = dict()\r\n",
        "    for index, value in enumerate(cities):\r\n",
        "        x1 = cities[index][0]\r\n",
        "        y1 = cities[index][1]\r\n",
        "        if index + 1 <= len(cities)-1:\r\n",
        "            x2 = cities[index+1][0]\r\n",
        "            y2 = cities[index+1][1]\r\n",
        "            xdiff = x2 - x1\r\n",
        "            ydiff = y2 - y1\r\n",
        "            dst = (xdiff*xdiff + ydiff*ydiff)** 0.5\r\n",
        "            data['Distance from city '+ str(index+1) +' to city ' + str(index+2)] = dst \r\n",
        "        elif index + 1 > len(cities)-1:\r\n",
        "            x2 = cities[0][0]\r\n",
        "            y2 = cities[0][1]\r\n",
        "            xdiff = x2 - x1\r\n",
        "            ydiff = y2 - y1\r\n",
        "            dst = (xdiff*xdiff + ydiff*ydiff)** 0.5\r\n",
        "            data['Distance from city '+ str(index+1) + ' to city ' + str(index +2 -len(cities))] = dst\r\n",
        "              \r\n",
        "    return data"
      ],
      "execution_count": 17,
      "outputs": []
    },
    {
      "cell_type": "code",
      "metadata": {
        "id": "0EKbVYOHOOyt"
      },
      "source": [
        "def total_distance(cities):\r\n",
        "    total = sum(distance_between_cities(cities).values())\r\n",
        "    return total\r\n"
      ],
      "execution_count": 18,
      "outputs": []
    },
    {
      "cell_type": "code",
      "metadata": {
        "id": "NXNgvDgtObr9"
      },
      "source": [
        "\r\n",
        "def generatePath(cities):\r\n",
        "    path = random.sample(cities, len(cities))\r\n",
        "    return path\r\n"
      ],
      "execution_count": 19,
      "outputs": []
    },
    {
      "cell_type": "code",
      "metadata": {
        "id": "pVUn8SsLRRrV"
      },
      "source": [
        "def initialPopulation(cities, populationSize):\r\n",
        "    population = [generatePath(cities) for i in range(0, populationSize)]\r\n",
        "    return population\r\n"
      ],
      "execution_count": 20,
      "outputs": []
    },
    {
      "cell_type": "code",
      "metadata": {
        "id": "456z_912RqUl"
      },
      "source": [
        "def path_fitness(cities):\r\n",
        "    total_dis = total_distance(cities)\r\n",
        "    fitness = 1 / float(total_dis)\r\n",
        "    return fitness\r\n"
      ],
      "execution_count": 21,
      "outputs": []
    },
    {
      "cell_type": "code",
      "metadata": {
        "id": "Xv7Vf3j4Twyk"
      },
      "source": [
        "def rankPathes(population):\r\n",
        "    fitnessResults = {}\r\n",
        "    for i in range(len(population)):\r\n",
        "        fitnessResults[i] = path_fitness(population[i])\r\n",
        "        \r\n",
        "    return sorted(fitnessResults.items(), key = operator.itemgetter(1), reverse = True)\r\n",
        "\r\n"
      ],
      "execution_count": 22,
      "outputs": []
    },
    {
      "cell_type": "code",
      "metadata": {
        "id": "kyJ66AhzeruP"
      },
      "source": [
        "#Roulette wheel Selection Method\r\n",
        "def perform_selection(pop, eliteSize):\r\n",
        "    df = pd.DataFrame(np.array(pop), columns=[\"Index\",\"Fitness\"])\r\n",
        "    df['cumulative_sum'] = df.Fitness.cumsum()\r\n",
        "    df['cum_percentage'] = 100*df.cumulative_sum/df.Fitness.sum()\r\n",
        "    selected_values = [pop[i][0] for i in range(eliteSize)]\r\n",
        "    \r\n",
        "    for i in range(len(pop) - eliteSize):\r\n",
        "        pick = 100*random.random()\r\n",
        "        for i in range(0, len(pop)):\r\n",
        "            if pick <= df.iat[i,3]:\r\n",
        "                selected_values.append(pop[i][0])\r\n",
        "                break\r\n",
        "                \r\n",
        "    return selected_values"
      ],
      "execution_count": 23,
      "outputs": []
    },
    {
      "cell_type": "code",
      "metadata": {
        "id": "0v5ka8nZnmGR"
      },
      "source": [
        "#Ordered Crossover\r\n",
        "def crossover(mum, dad):\r\n",
        "    \"\"\"Implements ordered crossover\"\"\"\r\n",
        "\r\n",
        "    size = len(mum)\r\n",
        "\r\n",
        "    kid1, kid2 = [-1] * size, [-1] * size\r\n",
        "    start, end = sorted([random.randrange(size) for _ in range(2)])\r\n",
        "\r\n",
        "    kid1_inherited = []\r\n",
        "    kid2_inherited = []\r\n",
        "    for i in range(start, end + 1):\r\n",
        "        kid1[i] = mum[i]\r\n",
        "        kid2[i] = dad[i]\r\n",
        "        kid1_inherited.append(mum[i])\r\n",
        "        kid2_inherited.append(dad[i])\r\n",
        "\r\n",
        "    current_dad_position, current_mum_position = 0, 0\r\n",
        "\r\n",
        "    fixed_pos = [range(start, end + 1)]       \r\n",
        "    i = 0\r\n",
        "    while i < size:\r\n",
        "        if i in fixed_pos:\r\n",
        "            i += 1\r\n",
        "            continue\r\n",
        "\r\n",
        "        test_kid1 = kid1[i]\r\n",
        "        if test_kid1==-1: \r\n",
        "            dad_trait = dad[current_dad_position]\r\n",
        "            while dad_trait in kid1_inherited:\r\n",
        "                current_dad_position += 1\r\n",
        "                dad_trait = dad[current_dad_position]\r\n",
        "            kid1[i] = dad_trait\r\n",
        "            kid1_inherited.append(dad_trait)\r\n",
        "        \r\n",
        "        test_kid2 = kid2[i]\r\n",
        "        if test_kid2==-1: \r\n",
        "            mum_trait = mum[current_mum_position]\r\n",
        "            while mum_trait in kid2_inherited:\r\n",
        "                current_mum_position += 1\r\n",
        "                mum_trait = mum[current_mum_position]\r\n",
        "            kid2[i] = mum_trait\r\n",
        "            kid2_inherited.append(mum_trait)\r\n",
        "       \r\n",
        "        i +=1\r\n",
        "        \r\n",
        "\r\n",
        "    return kid1, kid2"
      ],
      "execution_count": 24,
      "outputs": []
    },
    {
      "cell_type": "code",
      "metadata": {
        "id": "6idHSbbixa96"
      },
      "source": [
        "#Swaping\r\n",
        "def mutate(indiv, mutat_rate):\r\n",
        "    for exchanged in range(len(indiv)):\r\n",
        "        if(random.random() < mutat_rate):\r\n",
        "            exchanged_with = int(random.random() * len(indiv))\r\n",
        "            \r\n",
        "            city1 = indiv[exchanged]\r\n",
        "            city2 = indiv[exchanged_with]\r\n",
        "            \r\n",
        "            indiv[exchanged] = city2\r\n",
        "            indiv[exchanged_with] = city1\r\n",
        "    return indiv"
      ],
      "execution_count": 25,
      "outputs": []
    },
    {
      "cell_type": "code",
      "metadata": {
        "id": "cMvs0EaqdBss"
      },
      "source": [
        "def mutatation_population(population, mutat_rate):\r\n",
        "    mutated_population = [mutate(population[i], mutat_rate) for i in range(len(population))]\r\n",
        "    return mutated_population"
      ],
      "execution_count": 26,
      "outputs": []
    },
    {
      "cell_type": "code",
      "metadata": {
        "id": "gEupPqUSgV7b"
      },
      "source": [
        "def main():\r\n",
        "\r\n",
        "  population_size = 150\r\n",
        "  number_of_iterations = 1200\r\n",
        "  number_of_couples = 20\r\n",
        "  mutation_probability = 0.01\r\n",
        "  cityList  = [[35.6897,139.6922],[34.693,135.5019],[35.1167,136.9333],[35.4333,139.6333],[33.5903,130.4019],[43.0621,141.3544],[35.0111,135.7669],[34.6913,135.1830],[35.5300,139.7050],[35.8617,139.6453]]\r\n",
        "  population = initialPopulation(cityList, population_size)\r\n",
        "  best_fitness = 0\r\n",
        "  for i in range(number_of_iterations):\r\n",
        "    new_population = []\r\n",
        "    fit = rankPathes(population)\r\n",
        "    temp = fit[0][1]\r\n",
        "    temp1 = fit[0][0]\r\n",
        "    if temp>best_fitness:\r\n",
        "      best_fitness = temp\r\n",
        "      min_distance = 1/best_fitness\r\n",
        "      best_chromosome = population[temp1]\r\n",
        "    \r\n",
        "    selected = perform_selection(fit,5)\r\n",
        "    for i in range(number_of_couples):\r\n",
        "      i = random.randint(0, len(selected)-1)\r\n",
        "      j = random.randint(0, len(selected)-1)\r\n",
        "      new1, new2 = crossover(population[selected[i]], population[selected[j]])\r\n",
        "      new_population = new_population + [new1, new2]\r\n",
        "    \r\n",
        "    new_population = mutatation_population(new_population, mutation_probability)\r\n",
        "    \r\n",
        "    for i in range(10):\r\n",
        "      new_population = new_population + [population[selected[i]]]\r\n",
        "    \r\n",
        "    popuation = copy.deepcopy(new_population)\r\n",
        "  \r\n",
        "  print(best_fitness, min_distance, best_chromosome)\r\n",
        "  \r\n",
        "\r\n",
        "\r\n",
        "    \r\n",
        "    \r\n",
        "\r\n",
        "    "
      ],
      "execution_count": 30,
      "outputs": []
    },
    {
      "cell_type": "code",
      "metadata": {
        "colab": {
          "base_uri": "https://localhost:8080/"
        },
        "id": "8816xKJt87tj",
        "outputId": "f3199136-c59f-4160-8a1f-7e1d988391ba"
      },
      "source": [
        "start_time = time.time()\r\n",
        "main()\r\n",
        "print(time.time()-start_time)"
      ],
      "execution_count": 31,
      "outputs": [
        {
          "output_type": "stream",
          "text": [
            "0.03088249131484155 32.38080729320625 [[35.4333, 139.6333], [35.6897, 139.6922], [43.0621, 141.3544], [33.5903, 130.4019], [34.6913, 135.183], [34.693, 135.5019], [35.0111, 135.7669], [35.1167, 136.9333], [35.8617, 139.6453], [35.53, 139.705]]\n",
            "272.94228863716125\n"
          ],
          "name": "stdout"
        }
      ]
    }
  ]
}